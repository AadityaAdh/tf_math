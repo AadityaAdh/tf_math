{
  "nbformat": 4,
  "nbformat_minor": 0,
  "metadata": {
    "colab": {
      "provenance": [],
      "authorship_tag": "ABX9TyNh8MyycK8svJO9rzTuFxw4",
      "include_colab_link": true
    },
    "kernelspec": {
      "name": "python3",
      "display_name": "Python 3"
    },
    "language_info": {
      "name": "python"
    }
  },
  "cells": [
    {
      "cell_type": "markdown",
      "metadata": {
        "id": "view-in-github",
        "colab_type": "text"
      },
      "source": [
        "<a href=\"https://colab.research.google.com/github/AadityaAdh/tf_math/blob/main/tf_math.ipynb\" target=\"_parent\"><img src=\"https://colab.research.google.com/assets/colab-badge.svg\" alt=\"Open In Colab\"/></a>"
      ]
    },
    {
      "cell_type": "code",
      "execution_count": null,
      "metadata": {
        "id": "7Dg0kDXws-B4"
      },
      "outputs": [],
      "source": [
        "import tensorflow as tf"
      ]
    },
    {
      "cell_type": "markdown",
      "source": [
        "#abs function\n",
        "\n",
        "to generate absolute value ie make it positive"
      ],
      "metadata": {
        "id": "iA7-BwTYYMC_"
      }
    },
    {
      "cell_type": "code",
      "source": [
        "x=tf.constant([-2.44,3.11,-11])\n",
        "tf.abs(x)"
      ],
      "metadata": {
        "colab": {
          "base_uri": "https://localhost:8080/"
        },
        "id": "QdDtrirQtQ18",
        "outputId": "c582ed21-8dc2-4d0d-b3b4-2e9f1071f2d1"
      },
      "execution_count": null,
      "outputs": [
        {
          "output_type": "execute_result",
          "data": {
            "text/plain": [
              "<tf.Tensor: shape=(3,), dtype=float32, numpy=array([ 2.44,  3.11, 11.  ], dtype=float32)>"
            ]
          },
          "metadata": {},
          "execution_count": 2
        }
      ]
    },
    {
      "cell_type": "markdown",
      "source": [
        "#argmax :find the index of maximum value\n",
        "\n",
        "Returns the index with the largest value across axes of a tensor\n",
        "\n",
        "tf.math.argmax(\n",
        "\n",
        "\n",
        "    input,\n",
        "    axis=None,\n",
        "    output_type=tf.dtypes.int64,\n",
        "    name=None\n",
        ")\n",
        "\n",
        "input:\n",
        "\n",
        "\tA Tensor.\n",
        "axis:\n",
        "\n",
        "\tAn integer, the axis to reduce across. Default to 0.\n",
        "output_type:\n",
        "\n",
        "\tAn optional output dtype (tf.int32 or tf.int64). Defaults to tf.int64.\n",
        "name:\n",
        "\n",
        "\tAn optional name for the operation."
      ],
      "metadata": {
        "id": "U18o9IyzuGvw"
      }
    },
    {
      "cell_type": "code",
      "source": [
        "#for a 1d tensor\n",
        "a=tf.constant([1,2,3,55,4])\n",
        "#here index of highest value is 3\n",
        "tf.math.argmax(\n",
        "    a,\n",
        "    axis=0,\n",
        "    output_type=tf.dtypes.int64,\n",
        "    name=None\n",
        ")"
      ],
      "metadata": {
        "colab": {
          "base_uri": "https://localhost:8080/"
        },
        "id": "9E_1R8DNtvn5",
        "outputId": "05e9e7b0-232a-4362-bc53-cc8c1195331c"
      },
      "execution_count": null,
      "outputs": [
        {
          "output_type": "execute_result",
          "data": {
            "text/plain": [
              "<tf.Tensor: shape=(), dtype=int64, numpy=3>"
            ]
          },
          "metadata": {},
          "execution_count": 3
        }
      ]
    },
    {
      "cell_type": "markdown",
      "source": [
        "#Axis in tensorflow and numpy as well\n",
        "shape garda(x,y,z)\n",
        "yesari aauxa value\n",
        "\n",
        "so x vanae ko axis 0 so columns\n",
        "\n",
        "y vanae ko axis 1 so row\n",
        "\n",
        "z vanae ko axis 2 so matrix"
      ],
      "metadata": {
        "id": "moJVSkoAvcme"
      }
    },
    {
      "cell_type": "code",
      "source": [
        "b=tf.constant([\n",
        "    [1,2,3],\n",
        "    [3,4,5]\n",
        "])\n",
        "b.shape"
      ],
      "metadata": {
        "colab": {
          "base_uri": "https://localhost:8080/"
        },
        "id": "2NwCgJwGu6dD",
        "outputId": "3e8ea48d-a65a-4fde-e2a3-a2a2f5c6acb3"
      },
      "execution_count": null,
      "outputs": [
        {
          "output_type": "execute_result",
          "data": {
            "text/plain": [
              "TensorShape([2, 3])"
            ]
          },
          "metadata": {},
          "execution_count": 4
        }
      ]
    },
    {
      "cell_type": "code",
      "source": [
        "#axis is 0 means row\n",
        "#row ko 1st 1st element compare garni\n",
        "#1st row ma 1 ra 2nd row ma 3\n",
        "#1 ra 2 vanya different column ho row haina\n",
        "#1 ra 3 vanya chai different row ho\n",
        "tf.math.argmax(b,0)"
      ],
      "metadata": {
        "colab": {
          "base_uri": "https://localhost:8080/"
        },
        "id": "l991AmQX19hM",
        "outputId": "e54b5b26-c1a5-4ad6-ee47-e0bb0b0cdef3"
      },
      "execution_count": null,
      "outputs": [
        {
          "output_type": "execute_result",
          "data": {
            "text/plain": [
              "<tf.Tensor: shape=(3,), dtype=int64, numpy=array([1, 1, 1])>"
            ]
          },
          "metadata": {},
          "execution_count": 7
        }
      ]
    },
    {
      "cell_type": "code",
      "source": [
        "tf.math.argmax(b,1)"
      ],
      "metadata": {
        "colab": {
          "base_uri": "https://localhost:8080/"
        },
        "id": "0nsTzIfe2Qth",
        "outputId": "59539e11-59a8-459d-e484-52c3514f8026"
      },
      "execution_count": null,
      "outputs": [
        {
          "output_type": "execute_result",
          "data": {
            "text/plain": [
              "<tf.Tensor: shape=(2,), dtype=int64, numpy=array([2, 2])>"
            ]
          },
          "metadata": {},
          "execution_count": 8
        }
      ]
    },
    {
      "cell_type": "code",
      "source": [
        "tensor_three_d=tf.constant([\n",
        "    [\n",
        "        [1,2,0],\n",
        "        [3,5,-1]\n",
        "    ],\n",
        "    [\n",
        "        [10,2,0],\n",
        "        [1,2,0]\n",
        "    ]\n",
        "])\n"
      ],
      "metadata": {
        "id": "YYuwrMTH4fus"
      },
      "execution_count": null,
      "outputs": []
    },
    {
      "cell_type": "code",
      "source": [
        "#finding highest in columns so axis is 2\n",
        "#axis 2 garda duitai matrix ko lagi hunxa aani aani reslut yeuta matrix  form ma aauxa\n",
        "# 1st matrix ko 3 ootaa column element herum\n",
        "#1,2,0 xa yesma thulo 2 so index=1\n",
        "#aani secund ma thulo 5 index 1\n",
        "#so yeuta matrix ko value[1,1] vayo\n",
        "tf.math.argmax(tensor_three_d,2)"
      ],
      "metadata": {
        "colab": {
          "base_uri": "https://localhost:8080/"
        },
        "id": "U3VNnk3w4v-j",
        "outputId": "f94be394-59ff-4f01-a616-11cabd7b13dc"
      },
      "execution_count": null,
      "outputs": [
        {
          "output_type": "execute_result",
          "data": {
            "text/plain": [
              "<tf.Tensor: shape=(2, 2), dtype=int64, numpy=\n",
              "array([[1, 1],\n",
              "       [0, 1]])>"
            ]
          },
          "metadata": {},
          "execution_count": 20
        }
      ]
    },
    {
      "cell_type": "code",
      "source": [
        "#in rows\n",
        "#1,3 ma 3 thulo so index=1 same for other in each matrix\n",
        "#2,5 ma 5 thuolo index=1\n",
        "#0 ra -1 ma 0 thulo so index=0\n",
        "\n",
        "tf.math.argmax(tensor_three_d,1)"
      ],
      "metadata": {
        "colab": {
          "base_uri": "https://localhost:8080/"
        },
        "id": "VIH1FcLO-SI3",
        "outputId": "ee372789-ec63-4ae9-bbd4-5a6b9d8f0b81"
      },
      "execution_count": null,
      "outputs": [
        {
          "output_type": "execute_result",
          "data": {
            "text/plain": [
              "<tf.Tensor: shape=(2, 3), dtype=int64, numpy=\n",
              "array([[1, 1, 0],\n",
              "       [0, 0, 0]])>"
            ]
          },
          "metadata": {},
          "execution_count": 22
        }
      ]
    },
    {
      "cell_type": "code",
      "source": [
        "tf.math.argmax(tensor_three_d,0)\n",
        "#yo vanya chai matrix vs matrix\n",
        "#m1,m2 ko pratyek corresponding element herni ,m1 ,m2 vanya yo vitra ko duita element\n",
        "#yedi m1 ko thulo xa vanae index 0 return m2 xa  vanae index1"
      ],
      "metadata": {
        "colab": {
          "base_uri": "https://localhost:8080/"
        },
        "id": "LsS1BPTi_Vpp",
        "outputId": "3b3bb0b0-b3a0-44e2-b7bc-01ce8fcc69cd"
      },
      "execution_count": null,
      "outputs": [
        {
          "output_type": "execute_result",
          "data": {
            "text/plain": [
              "<tf.Tensor: shape=(2, 3), dtype=int64, numpy=\n",
              "array([[1, 0, 0],\n",
              "       [0, 0, 1]])>"
            ]
          },
          "metadata": {},
          "execution_count": 23
        }
      ]
    },
    {
      "cell_type": "markdown",
      "source": [
        "#sin and asin functions\n",
        "\n",
        "The tf.math.asin operation returns the inverse of tf.math.sin, such that if y = tf.math.sin(x) then, x = tf.math.asin(y)."
      ],
      "metadata": {
        "id": "CKSHD5JONm1Z"
      }
    },
    {
      "cell_type": "code",
      "source": [
        "# Note: [1.047, 0.785] ~= [(pi/3), (pi/4)]\n",
        "x = tf.constant([1.047, 0.785])\n",
        "y = tf.math.sin(x) # [0.8659266, 0.7068252]\n",
        "\n",
        "tf.math.asin(y) # [1.047, 0.785] = x"
      ],
      "metadata": {
        "colab": {
          "base_uri": "https://localhost:8080/"
        },
        "id": "ETRHAi3Q_8O6",
        "outputId": "e51d6311-610c-46f2-df9e-87bfb0d23e70"
      },
      "execution_count": null,
      "outputs": [
        {
          "output_type": "execute_result",
          "data": {
            "text/plain": [
              "<tf.Tensor: shape=(2,), dtype=float32, numpy=array([1.047, 0.785], dtype=float32)>"
            ]
          },
          "metadata": {},
          "execution_count": 24
        }
      ]
    },
    {
      "cell_type": "markdown",
      "source": [
        "#square root\n",
        "\n"
      ],
      "metadata": {
        "id": "YJ7FDp19P2FY"
      }
    },
    {
      "cell_type": "code",
      "source": [
        "x = tf.constant([[4.0], [16.0]])\n",
        "tf.math.sqrt(x)"
      ],
      "metadata": {
        "colab": {
          "base_uri": "https://localhost:8080/"
        },
        "id": "gEDA5JQTOEc7",
        "outputId": "78124a7e-21c8-4da8-a70e-c03998f05bce"
      },
      "execution_count": null,
      "outputs": [
        {
          "output_type": "execute_result",
          "data": {
            "text/plain": [
              "<tf.Tensor: shape=(2, 1), dtype=float32, numpy=\n",
              "array([[2.],\n",
              "       [4.]], dtype=float32)>"
            ]
          },
          "metadata": {},
          "execution_count": 29
        }
      ]
    },
    {
      "cell_type": "code",
      "source": [
        "#negative ko square root garyo vanae nan vanae ra aauxa if it is specififed as integer\n",
        "y = tf.constant([[-4.0], [16.0]])\n",
        "tf.math.sqrt(y)"
      ],
      "metadata": {
        "colab": {
          "base_uri": "https://localhost:8080/"
        },
        "id": "PVz6026BP8Kn",
        "outputId": "c546d88e-e554-4bf3-8472-e715f602ac09"
      },
      "execution_count": null,
      "outputs": [
        {
          "output_type": "execute_result",
          "data": {
            "text/plain": [
              "<tf.Tensor: shape=(2, 1), dtype=float32, numpy=\n",
              "array([[nan],\n",
              "       [ 4.]], dtype=float32)>"
            ]
          },
          "metadata": {},
          "execution_count": 30
        }
      ]
    },
    {
      "cell_type": "code",
      "source": [
        "#but if you say  it as complex number then sabbai ko result i+j ko terma ma aauxa\n",
        "z = tf.constant([[-1.0], [16.0]], dtype=tf.complex128)\n",
        "tf.math.sqrt(z)"
      ],
      "metadata": {
        "colab": {
          "base_uri": "https://localhost:8080/"
        },
        "id": "76ApMP59QFf8",
        "outputId": "ea691059-a9ce-42c8-a534-9f976ab6c850"
      },
      "execution_count": null,
      "outputs": [
        {
          "output_type": "execute_result",
          "data": {
            "text/plain": [
              "<tf.Tensor: shape=(2, 1), dtype=complex128, numpy=\n",
              "array([[0.+1.j],\n",
              "       [4.+0.j]])>"
            ]
          },
          "metadata": {},
          "execution_count": 31
        }
      ]
    },
    {
      "cell_type": "markdown",
      "source": [
        "#Add\n",
        "\n",
        "tf.math.add(\n",
        "\n",
        "\n",
        "    x, y, name=None\n",
        ")\n",
        "\n",
        "\n",
        "2 oota tensors x and y\n"
      ],
      "metadata": {
        "id": "hUWltI5sQxOy"
      }
    },
    {
      "cell_type": "code",
      "source": [
        "a=tf.constant([1,2,3,4])\n",
        "b=tf.constant([5,6,7,8])\n",
        "tf.math.add(a,b)"
      ],
      "metadata": {
        "colab": {
          "base_uri": "https://localhost:8080/"
        },
        "id": "a41IChk0QPET",
        "outputId": "8ad85392-a7f9-4e18-f8eb-2692e47578b6"
      },
      "execution_count": null,
      "outputs": [
        {
          "output_type": "execute_result",
          "data": {
            "text/plain": [
              "<tf.Tensor: shape=(4,), dtype=int32, numpy=array([ 6,  8, 10, 12], dtype=int32)>"
            ]
          },
          "metadata": {},
          "execution_count": 32
        }
      ]
    },
    {
      "cell_type": "code",
      "source": [
        "#adding out of dimension tensors\n",
        "a=tf.constant([1,2,3,4])\n",
        "b=tf.constant([5])\n",
        "tf.math.add(a,b)\n",
        "#same if you want to do for 2d,3d..... tensors\n",
        "#iy you want to add each element by certain number"
      ],
      "metadata": {
        "colab": {
          "base_uri": "https://localhost:8080/"
        },
        "id": "cWU61UnQRwBK",
        "outputId": "f29b833f-9334-444c-ef5b-bfc1b9522e6d"
      },
      "execution_count": null,
      "outputs": [
        {
          "output_type": "execute_result",
          "data": {
            "text/plain": [
              "<tf.Tensor: shape=(4,), dtype=int32, numpy=array([6, 7, 8, 9], dtype=int32)>"
            ]
          },
          "metadata": {},
          "execution_count": 39
        }
      ]
    },
    {
      "cell_type": "markdown",
      "source": [
        "#Divide"
      ],
      "metadata": {
        "id": "vpMO5PVFSagj"
      }
    },
    {
      "cell_type": "code",
      "source": [
        "x = tf.constant([16, 12, 11])\n",
        "y = tf.constant([4, 6, 2])\n",
        "tf.math.divide(x,y)\n",
        "\n"
      ],
      "metadata": {
        "colab": {
          "base_uri": "https://localhost:8080/"
        },
        "id": "BNjZanTlR-Ro",
        "outputId": "bb054dbc-49ad-4126-fef5-c9244579e573"
      },
      "execution_count": null,
      "outputs": [
        {
          "output_type": "execute_result",
          "data": {
            "text/plain": [
              "<tf.Tensor: shape=(3,), dtype=float64, numpy=array([4. , 2. , 5.5])>"
            ]
          },
          "metadata": {},
          "execution_count": 35
        }
      ]
    },
    {
      "cell_type": "markdown",
      "source": [
        "#tf.math.divide_no_nan\n",
        "\n",
        "\n",
        "\n",
        "Computes a safe divide which returns 0 if y (denominator) is zero.vanya yedi kunai lai divide garda divide by zero(x/0) vaya ra infinite aauni vayo vanae tyo infinite na vai zero banai dinxa\n",
        "\n"
      ],
      "metadata": {
        "id": "iYtMW93iSyzY"
      }
    },
    {
      "cell_type": "code",
      "source": [
        "x = tf.constant([16, 12, 11])\n",
        "y = tf.constant([4, 0, 2])\n",
        "tf.math.divide_no_nan(x,y)"
      ],
      "metadata": {
        "colab": {
          "base_uri": "https://localhost:8080/"
        },
        "id": "hTTGXshpSgoG",
        "outputId": "752e9313-2b34-4eba-f3bd-d418cb1602d8"
      },
      "execution_count": null,
      "outputs": [
        {
          "output_type": "execute_result",
          "data": {
            "text/plain": [
              "<tf.Tensor: shape=(3,), dtype=float64, numpy=array([4. , 0. , 5.5])>"
            ]
          },
          "metadata": {},
          "execution_count": 36
        }
      ]
    },
    {
      "cell_type": "code",
      "source": [
        "#yedi divide matra garya vayae infinite aauxa\n",
        "x = tf.constant([16, 12, 11])\n",
        "y = tf.constant([4, 0, 2])\n",
        "tf.divide(x,y)"
      ],
      "metadata": {
        "colab": {
          "base_uri": "https://localhost:8080/"
        },
        "id": "Ji3_nZEPTMKN",
        "outputId": "08a2e2d0-47d3-46a3-e12b-f1a622436294"
      },
      "execution_count": null,
      "outputs": [
        {
          "output_type": "execute_result",
          "data": {
            "text/plain": [
              "<tf.Tensor: shape=(3,), dtype=float64, numpy=array([4. , inf, 5.5])>"
            ]
          },
          "metadata": {},
          "execution_count": 38
        }
      ]
    },
    {
      "cell_type": "markdown",
      "source": [
        "Multiply"
      ],
      "metadata": {
        "id": "R3klXlCST02O"
      }
    },
    {
      "cell_type": "code",
      "source": [
        "x = tf.constant(([1, 2, 3, 4]))\n",
        "tf.math.multiply(x, x)\n"
      ],
      "metadata": {
        "colab": {
          "base_uri": "https://localhost:8080/"
        },
        "id": "MDMjwe_nTRsz",
        "outputId": "f5f09d66-caa8-40f7-e436-8aea1364615e"
      },
      "execution_count": null,
      "outputs": [
        {
          "output_type": "execute_result",
          "data": {
            "text/plain": [
              "<tf.Tensor: shape=(4,), dtype=int32, numpy=array([ 1,  4,  9, 16], dtype=int32)>"
            ]
          },
          "metadata": {},
          "execution_count": 40
        }
      ]
    },
    {
      "cell_type": "markdown",
      "source": [
        "#tf.math.multiply_no_nan\n",
        "\n",
        "\n",
        "Computes the product of x and y and returns 0 if the y is zero, even if x is NaN or infinite.\n",
        "\n",
        "kei gari infinite aauni vayae vanae multiply garda tellai 0 banauna"
      ],
      "metadata": {
        "id": "dCaBuIGpUNFe"
      }
    },
    {
      "cell_type": "code",
      "source": [
        "#multiplication but not of like matrix instead direct multiplication\n",
        "a=tf.constant([[5,3,6,6,4,6]])\n",
        "b=tf.constant([[7],[5],[3]])\n",
        "print(a.shape)\n",
        "print(b.shape)"
      ],
      "metadata": {
        "colab": {
          "base_uri": "https://localhost:8080/"
        },
        "id": "jv_a7o8sUBRT",
        "outputId": "ec3e173f-6650-4119-e6b6-feda0d369dff"
      },
      "execution_count": null,
      "outputs": [
        {
          "output_type": "stream",
          "name": "stdout",
          "text": [
            "(1, 6)\n",
            "(3, 1)\n"
          ]
        }
      ]
    },
    {
      "cell_type": "code",
      "source": [
        "#herni ho vanae  multiply ta garna ta mildaina matrix multiplication haina hai feri simple multiplication\n",
        "#tara tensorflow lae garxa\n",
        "#by duplicating\n"
      ],
      "metadata": {
        "id": "lFXfsRPYVcq1"
      },
      "execution_count": null,
      "outputs": []
    },
    {
      "cell_type": "code",
      "source": [
        "tf.math.multiply(a,b)"
      ],
      "metadata": {
        "colab": {
          "base_uri": "https://localhost:8080/"
        },
        "id": "_vkx-Qj3WfJn",
        "outputId": "c4951183-00fe-48d1-a3f4-28e9f0acf1be"
      },
      "execution_count": null,
      "outputs": [
        {
          "output_type": "execute_result",
          "data": {
            "text/plain": [
              "<tf.Tensor: shape=(3, 6), dtype=int32, numpy=\n",
              "array([[35, 21, 42, 42, 28, 42],\n",
              "       [25, 15, 30, 30, 20, 30],\n",
              "       [15,  9, 18, 18, 12, 18]], dtype=int32)>"
            ]
          },
          "metadata": {},
          "execution_count": 45
        }
      ]
    },
    {
      "cell_type": "markdown",
      "source": [
        "#Equal tf.math.equal\n",
        "\n",
        "\n",
        "Returns the truth value of (x == y) element-wise.\n",
        "\n",
        "tf.math.equal(\n",
        "\n",
        "\n",
        "    x, y, name=None\n",
        ")\n",
        "\n",
        "element-wise equality comparison, returning a Tensor of boolean values."
      ],
      "metadata": {
        "id": "uoTm9wbHZIFk"
      }
    },
    {
      "cell_type": "code",
      "source": [
        "x = tf.constant([2, 4])\n",
        "y = tf.constant(2)\n",
        "tf.math.equal(x, y)\n"
      ],
      "metadata": {
        "colab": {
          "base_uri": "https://localhost:8080/"
        },
        "id": "7M93y0jUZHtw",
        "outputId": "d004356a-89a7-470e-afff-41ee3c77d9e6"
      },
      "execution_count": null,
      "outputs": [
        {
          "output_type": "execute_result",
          "data": {
            "text/plain": [
              "<tf.Tensor: shape=(2,), dtype=bool, numpy=array([ True, False])>"
            ]
          },
          "metadata": {},
          "execution_count": 46
        }
      ]
    },
    {
      "cell_type": "code",
      "source": [
        "x = tf.constant([2, 4])\n",
        "y = tf.constant([2, 4])\n",
        "tf.math.equal(x, y)\n"
      ],
      "metadata": {
        "colab": {
          "base_uri": "https://localhost:8080/"
        },
        "id": "1KAOnLxvXUOs",
        "outputId": "c504d019-6988-4fc2-9b8c-1d2c336fc760"
      },
      "execution_count": null,
      "outputs": [
        {
          "output_type": "execute_result",
          "data": {
            "text/plain": [
              "<tf.Tensor: shape=(2,), dtype=bool, numpy=array([ True,  True])>"
            ]
          },
          "metadata": {},
          "execution_count": 47
        }
      ]
    },
    {
      "cell_type": "markdown",
      "source": [
        "#Power of Each Element tf.math.pow\n",
        "\n",
        "\n",
        "Computes the power of one value to another.\n",
        "\n",
        "tf.math.pow(\n",
        "\n",
        "\n",
        "    x, y, name=None\n",
        ")\n",
        "\n"
      ],
      "metadata": {
        "id": "XoZWICdIZ40C"
      }
    },
    {
      "cell_type": "code",
      "source": [
        "x = tf.constant([[2, 2], [3, 3]])\n",
        "y = tf.constant([[8, 16], [2, 3]])\n",
        "tf.pow(x, y)  # [[256, 65536], [9, 27]]"
      ],
      "metadata": {
        "colab": {
          "base_uri": "https://localhost:8080/"
        },
        "id": "r24ZTQW9ZscX",
        "outputId": "eb8345c2-03b7-4501-9011-3f830a5c8aa8"
      },
      "execution_count": null,
      "outputs": [
        {
          "output_type": "execute_result",
          "data": {
            "text/plain": [
              "<tf.Tensor: shape=(2, 2), dtype=int32, numpy=\n",
              "array([[  256, 65536],\n",
              "       [    9,    27]], dtype=int32)>"
            ]
          },
          "metadata": {},
          "execution_count": 48
        }
      ]
    },
    {
      "cell_type": "markdown",
      "source": [
        "#sum within itself  tf.math.reduce_sum\n",
        "\n",
        "\n",
        "Computes the sum of elements across dimensions of a tensor.\n",
        "\n",
        "sum garna aafno elements bich ma\n",
        "row column jun axis ma ni garna milxa\n",
        "\n",
        "tf.math.reduce_sum(\n",
        "\n",
        "\n",
        "    input_tensor, axis=None, keepdims=False, name=None\n",
        ")\n",
        "axis diye navanae sabbai ko sum gardinxa as numpy\n",
        "axis dini aai tei aanusar matrai garxa"
      ],
      "metadata": {
        "id": "a7FgrpVubQa7"
      }
    },
    {
      "cell_type": "code",
      "source": [
        "tensor_two_d=tf.constant([\n",
        "    [1,2],\n",
        "     [3,4]])\n",
        "print(tensor_two_d)"
      ],
      "metadata": {
        "colab": {
          "base_uri": "https://localhost:8080/"
        },
        "id": "sKEDgwUKaOSv",
        "outputId": "f6a97196-25c2-4f03-a611-d4c994982249"
      },
      "execution_count": null,
      "outputs": [
        {
          "output_type": "stream",
          "name": "stdout",
          "text": [
            "tf.Tensor(\n",
            "[[1 2]\n",
            " [3 4]], shape=(2, 2), dtype=int32)\n"
          ]
        }
      ]
    },
    {
      "cell_type": "code",
      "source": [
        "tf.math.reduce_sum(\n",
        "    tensor_two_d, axis=0\n",
        ")\n",
        " #1 ra2 vanae rajhukkna vayae na\n",
        " #1 ra 3 ho different rows\n",
        " #axis=0 vanya row"
      ],
      "metadata": {
        "colab": {
          "base_uri": "https://localhost:8080/"
        },
        "id": "EMma1OqMcGLl",
        "outputId": "e13ab56e-64b3-49a2-94a2-3bb6fdba642b"
      },
      "execution_count": null,
      "outputs": [
        {
          "output_type": "execute_result",
          "data": {
            "text/plain": [
              "<tf.Tensor: shape=(2,), dtype=int32, numpy=array([4, 6], dtype=int32)>"
            ]
          },
          "metadata": {},
          "execution_count": 51
        }
      ]
    },
    {
      "cell_type": "code",
      "source": [
        "tf.math.reduce_sum(\n",
        "    tensor_two_d, axis=1\n",
        ")"
      ],
      "metadata": {
        "colab": {
          "base_uri": "https://localhost:8080/"
        },
        "id": "bQvr64txcStc",
        "outputId": "6d0e959d-8c1d-4ae4-c5d8-7be3dcc853d0"
      },
      "execution_count": null,
      "outputs": [
        {
          "output_type": "execute_result",
          "data": {
            "text/plain": [
              "<tf.Tensor: shape=(2,), dtype=int32, numpy=array([3, 7], dtype=int32)>"
            ]
          },
          "metadata": {},
          "execution_count": 52
        }
      ]
    },
    {
      "cell_type": "markdown",
      "source": [
        "#sigmoid tf.math.sigmoid\n",
        "\n",
        "\n",
        "\n",
        "Computes sigmoid of x element-wise.\n",
        "\n",
        "tf.math.sigmoid(\n",
        "\n",
        "  \n",
        "    x, name=None\n",
        ")"
      ],
      "metadata": {
        "id": "FDhRjzxTc46g"
      }
    },
    {
      "cell_type": "code",
      "source": [
        "x = tf.constant([0.0, 1.0, 50.0, 100.0])\n",
        "tf.math.sigmoid(x)\n",
        "\n"
      ],
      "metadata": {
        "colab": {
          "base_uri": "https://localhost:8080/"
        },
        "id": "5VO_rpGqcoed",
        "outputId": "622967a1-9c5c-4e93-c5b7-f5ef7c00c02c"
      },
      "execution_count": null,
      "outputs": [
        {
          "output_type": "execute_result",
          "data": {
            "text/plain": [
              "<tf.Tensor: shape=(4,), dtype=float32, numpy=array([0.5      , 0.7310586, 1.       , 1.       ], dtype=float32)>"
            ]
          },
          "metadata": {},
          "execution_count": 53
        }
      ]
    },
    {
      "cell_type": "code",
      "source": [],
      "metadata": {
        "id": "c2jo_uz0dE8t"
      },
      "execution_count": null,
      "outputs": []
    }
  ]
}